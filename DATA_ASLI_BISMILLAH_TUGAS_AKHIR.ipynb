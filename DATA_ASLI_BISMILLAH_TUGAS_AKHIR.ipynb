{
  "cells": [
    {
      "cell_type": "code",
      "source": [
        "from google.colab import drive\n",
        "drive.mount('/content/drive')"
      ],
      "metadata": {
        "id": "7fcBv0Y7Np84"
      },
      "id": "7fcBv0Y7Np84",
      "execution_count": null,
      "outputs": []
    },
    {
      "cell_type": "markdown",
      "id": "34d0b957",
      "metadata": {
        "id": "34d0b957"
      },
      "source": [
        "## Import Libraries"
      ]
    },
    {
      "cell_type": "code",
      "execution_count": null,
      "id": "d1e8dbb2",
      "metadata": {
        "id": "d1e8dbb2"
      },
      "outputs": [],
      "source": [
        "import pandas as pd\n",
        "import numpy as np\n",
        "import matplotlib.pyplot as plt\n",
        "import seaborn as sns\n",
        "from sklearn.linear_model import LogisticRegression\n",
        "from sklearn.metrics import classification_report, confusion_matrix, accuracy_score\n",
        "from sklearn.preprocessing import StandardScaler\n",
        "import warnings\n",
        "warnings.filterwarnings(\"ignore\")\n",
        "\n",
        "%matplotlib inline"
      ]
    },
    {
      "cell_type": "markdown",
      "id": "c024a793",
      "metadata": {
        "id": "c024a793"
      },
      "source": [
        "## Loading Dataset"
      ]
    },
    {
      "cell_type": "code",
      "execution_count": null,
      "id": "db070c7b",
      "metadata": {
        "id": "db070c7b"
      },
      "outputs": [],
      "source": [
        "df = pd.read_csv(\"drive/MyDrive/Dataset/rideshare_kaggle.csv\")\n",
        "df"
      ]
    },
    {
      "cell_type": "code",
      "execution_count": null,
      "id": "1abcd4da",
      "metadata": {
        "id": "1abcd4da"
      },
      "outputs": [],
      "source": [
        "df.shape"
      ]
    },
    {
      "cell_type": "code",
      "execution_count": null,
      "id": "fbdcd351",
      "metadata": {
        "id": "fbdcd351"
      },
      "outputs": [],
      "source": [
        "df.info()"
      ]
    },
    {
      "cell_type": "markdown",
      "id": "9a32b126",
      "metadata": {
        "id": "9a32b126"
      },
      "source": [
        "## Data Cleaning"
      ]
    },
    {
      "cell_type": "code",
      "execution_count": null,
      "id": "393d0d4e",
      "metadata": {
        "id": "393d0d4e"
      },
      "outputs": [],
      "source": [
        "df.isnull().sum()"
      ]
    },
    {
      "cell_type": "code",
      "execution_count": null,
      "id": "61add4b9",
      "metadata": {
        "id": "61add4b9"
      },
      "outputs": [],
      "source": [
        "df = df.dropna(subset=['price']).reset_index()"
      ]
    },
    {
      "cell_type": "code",
      "execution_count": null,
      "id": "d466d6ed",
      "metadata": {
        "id": "d466d6ed"
      },
      "outputs": [],
      "source": [
        "df.isnull().sum()"
      ]
    },
    {
      "cell_type": "code",
      "execution_count": null,
      "id": "9ad0e703",
      "metadata": {
        "id": "9ad0e703"
      },
      "outputs": [],
      "source": [
        "# Hapus fitur yang tidak memiliki dependency terhadap predictand (price)\n",
        "# karena sudah ada atribut jarak dan parameter waktu (hours, day, month)\n",
        "# hapus fitur latitude, longitude dan datetime dari datafram\n",
        "df = df.drop(['id','timestamp','datetime','long_summary','apparentTemperatureHighTime','apparentTemperatureLowTime',\n",
        "             'windGustTime','sunriseTime','sunsetTime','uvIndexTime','temperatureMinTime','temperatureMaxTime',\n",
        "             'apparentTemperatureMinTime','temperatureLowTime','apparentTemperatureMaxTime','latitude','longitude'],\n",
        "            axis=1)\n",
        "print(df.shape)\n",
        "df.head()"
      ]
    },
    {
      "cell_type": "code",
      "execution_count": null,
      "id": "bb8c0bc6",
      "metadata": {
        "id": "bb8c0bc6"
      },
      "outputs": [],
      "source": [
        "# cek korelasi antara fitur price dan fitur yang memiliki relasi dengan temperature\n",
        "new_df = df[['price','temperature','apparentTemperature','temperatureHigh','temperatureLow','apparentTemperatureHigh',\n",
        "            'apparentTemperatureLow','temperatureMin','temperatureHighTime','temperatureMax','apparentTemperatureMin',\n",
        "            'apparentTemperatureMax']]\n",
        "new_df.head()"
      ]
    },
    {
      "cell_type": "code",
      "execution_count": null,
      "id": "53aac2bc",
      "metadata": {
        "id": "53aac2bc"
      },
      "outputs": [],
      "source": [
        "# gunakan heatmap plot dengan correlation untuk melihat rate korelasi pada dataframe baru\n",
        "plt.figure(figsize=(10,8))\n",
        "sns.heatmap(new_df.corr(), annot=True, mask=np.triu(new_df.corr()))"
      ]
    },
    {
      "cell_type": "markdown",
      "id": "548c3c1e",
      "metadata": {
        "id": "548c3c1e"
      },
      "source": [
        "Hapus semua fitur yang berhubungan dengan temperatur dari dataframe karena mereka memiliki korelasi yang lemah terhadap predictand (price)"
      ]
    },
    {
      "cell_type": "code",
      "execution_count": null,
      "id": "e845cac6",
      "metadata": {
        "id": "e845cac6"
      },
      "outputs": [],
      "source": [
        "new_df = df[['temperature','apparentTemperature','temperatureHigh','temperatureLow','apparentTemperatureHigh',\n",
        "            'apparentTemperatureLow','temperatureMin','temperatureHighTime','temperatureMax','apparentTemperatureMin',\n",
        "            'apparentTemperatureMax']]\n",
        "df = df.drop(new_df.columns, axis=1)\n",
        "print(df.shape)\n",
        "df.head()"
      ]
    },
    {
      "cell_type": "code",
      "execution_count": null,
      "id": "55cafbc3",
      "metadata": {
        "id": "55cafbc3"
      },
      "outputs": [],
      "source": [
        "# eksplorasi dan analisis data pada fitur dengan tipe categorical\n",
        "categorical_cols = df.select_dtypes(include=['object','category']).columns.tolist()\n",
        "new_data = df[categorical_cols]\n",
        "new_data.head()"
      ]
    },
    {
      "cell_type": "code",
      "execution_count": null,
      "id": "5f4cc6d0",
      "metadata": {
        "id": "5f4cc6d0"
      },
      "outputs": [],
      "source": [
        "# cek nilai unik pada setiap kolom yang bertipe categorical\n",
        "for col in new_data:\n",
        "    print(f\"{col} :{new_data[col].unique()}\")\n",
        "    print()"
      ]
    },
    {
      "cell_type": "code",
      "execution_count": null,
      "id": "1209c06a",
      "metadata": {
        "id": "1209c06a"
      },
      "outputs": [],
      "source": [
        "new_data['product_id'].value_counts()"
      ]
    },
    {
      "cell_type": "code",
      "execution_count": null,
      "id": "c4a39edc",
      "metadata": {
        "id": "c4a39edc"
      },
      "outputs": [],
      "source": [
        "# hapus timezone karena sebagian besar data nya (>50%) hanya berisi data sampah\n",
        "df = df.drop(['timezone','product_id'], axis=1)\n",
        "df.head()"
      ]
    },
    {
      "cell_type": "code",
      "execution_count": null,
      "id": "a16d80b8",
      "metadata": {
        "id": "a16d80b8"
      },
      "outputs": [],
      "source": [
        "#analisis kolom/fitur yang memiliki tipe numerical\n",
        "num_cols = df.select_dtypes(include=['int64','float64']).columns.tolist()\n",
        "new_data = df[num_cols]\n",
        "new_data.columns"
      ]
    },
    {
      "cell_type": "code",
      "execution_count": null,
      "id": "0eb98ce8",
      "metadata": {
        "id": "0eb98ce8"
      },
      "outputs": [],
      "source": [
        "#analisis dan cek tingkat korelasi antara fitur yang berhubungan dengan cuaca dan price\n",
        "climate_cols = ['price','precipIntensity','precipProbability','humidity','windSpeed','windGust',\n",
        "               'visibility','dewPoint','pressure','windBearing','cloudCover','uvIndex','visibility.1',\n",
        "               'ozone','moonPhase','precipIntensityMax',]\n",
        "new_data = df[climate_cols]\n",
        "new_data.head()"
      ]
    },
    {
      "cell_type": "code",
      "execution_count": null,
      "id": "adbe7df4",
      "metadata": {
        "id": "adbe7df4"
      },
      "outputs": [],
      "source": [
        "plt.figure(figsize=(12,10))\n",
        "sns.heatmap(new_data.corr(), annot=True, mask=np.triu(new_data.corr()))"
      ]
    },
    {
      "cell_type": "markdown",
      "id": "0e6c975c",
      "metadata": {
        "id": "0e6c975c"
      },
      "source": [
        "semua fitur yang berhubungan dengan cuaca memiliki korelasi yang rendah hampir 0 terhadap kolom price. drop kolom kolom tersebut"
      ]
    },
    {
      "cell_type": "code",
      "execution_count": null,
      "id": "ee8aebc0",
      "metadata": {
        "scrolled": true,
        "id": "ee8aebc0"
      },
      "outputs": [],
      "source": [
        "climate_cols = ['precipIntensity','precipProbability','humidity','windSpeed','windGust',\n",
        "               'visibility','dewPoint','pressure','windBearing','cloudCover','uvIndex','visibility.1',\n",
        "               'ozone','moonPhase','precipIntensityMax']\n",
        "df = df.drop(climate_cols, axis=1)\n",
        "print(df.shape)\n",
        "df.head()"
      ]
    },
    {
      "cell_type": "code",
      "source": [
        "df.shape"
      ],
      "metadata": {
        "id": "lWo7phOswTe5"
      },
      "id": "lWo7phOswTe5",
      "execution_count": null,
      "outputs": []
    },
    {
      "cell_type": "code",
      "source": [
        "df.head()"
      ],
      "metadata": {
        "id": "T1QBBUEwwtg_"
      },
      "id": "T1QBBUEwwtg_",
      "execution_count": null,
      "outputs": []
    },
    {
      "cell_type": "markdown",
      "id": "30bcc617",
      "metadata": {
        "id": "30bcc617"
      },
      "source": [
        "## Exploratory Data Analysis"
      ]
    },
    {
      "cell_type": "markdown",
      "id": "4ef33ab3",
      "metadata": {
        "id": "4ef33ab3"
      },
      "source": [
        "## Data Preprocessing"
      ]
    },
    {
      "cell_type": "code",
      "execution_count": null,
      "id": "7740ecdc",
      "metadata": {
        "id": "7740ecdc"
      },
      "outputs": [],
      "source": [
        "# Binary encode kolom cab_type\n",
        "df['cab_type'] = df['cab_type'].replace({'Lyft': 0, 'Uber': 1})"
      ]
    },
    {
      "cell_type": "code",
      "execution_count": null,
      "id": "61390b34",
      "metadata": {
        "id": "61390b34"
      },
      "outputs": [],
      "source": [
        "#Encoding semua kolom bertipe cateogory dengan onehot encoder\n",
        "from sklearn.preprocessing import OneHotEncoder\n",
        "categorical_cols = df.select_dtypes(include=['object','category']).columns.tolist()\n",
        "print(categorical_cols)"
      ]
    },
    {
      "cell_type": "code",
      "source": [
        "#inisiasi OneHotEncoder dan menggabungkan original dataframe dengan kolom encode ke dataframe\n",
        "for col in categorical_cols:\n",
        "        encoder = OneHotEncoder(handle_unknown='ignore')\n",
        "        encoder_df = pd.DataFrame(encoder.fit_transform(df[[col]]).toarray())\n",
        "        encoder_df.columns = encoder.get_feature_names_out([col])\n",
        "        df = df.drop(col, axis=1)\n",
        "        df = pd.concat([df, encoder_df], axis=1)"
      ],
      "metadata": {
        "id": "lMPH6S9g701I"
      },
      "id": "lMPH6S9g701I",
      "execution_count": null,
      "outputs": []
    },
    {
      "cell_type": "code",
      "execution_count": null,
      "id": "0683d757",
      "metadata": {
        "id": "0683d757"
      },
      "outputs": [],
      "source": [
        "df.columns"
      ]
    },
    {
      "cell_type": "code",
      "execution_count": null,
      "id": "c0e2318b",
      "metadata": {
        "id": "c0e2318b"
      },
      "outputs": [],
      "source": [
        "# analisis dan cek korelasi antara price dengan kolom yang berhubungan dengan source\n",
        "source_cols = ['price','source_Back Bay', 'source_Beacon Hill', 'source_Boston University','source_Fenway',\n",
        "               'source_Financial District', 'source_Haymarket Square','source_North End', 'source_North Station',\n",
        "               'source_Northeastern University', 'source_South Station','source_Theatre District',\n",
        "               'source_West End']\n",
        "new_data = df[source_cols]\n",
        "new_data.head()"
      ]
    },
    {
      "cell_type": "code",
      "execution_count": null,
      "id": "1b5a8c25",
      "metadata": {
        "id": "1b5a8c25"
      },
      "outputs": [],
      "source": [
        "plt.figure(figsize=(12,12))\n",
        "sns.heatmap(new_data.corr(), annot=True, mask=np.triu(new_data.corr()))"
      ]
    },
    {
      "cell_type": "markdown",
      "id": "f2bfc9f1",
      "metadata": {
        "id": "f2bfc9f1"
      },
      "source": [
        "kolom yang berhubungan dengan source memiliki pengaruh yang cukup signifikan terhadap price. kemudian cek kolom destinasi dengan cara yang sama untuk melihat rate korelasi terhadap price"
      ]
    },
    {
      "cell_type": "code",
      "execution_count": null,
      "id": "8a259d89",
      "metadata": {
        "id": "8a259d89"
      },
      "outputs": [],
      "source": [
        "destination_cols =['price','destination_Back Bay','destination_Beacon Hill', 'destination_Boston University',\n",
        "                   'destination_Fenway', 'destination_Financial District','destination_Haymarket Square',\n",
        "                   'destination_North End','destination_North Station', 'destination_Northeastern University',\n",
        "                   'destination_South Station', 'destination_Theatre District','destination_West End']\n",
        "new_data = df[destination_cols]\n",
        "new_data.head()"
      ]
    },
    {
      "cell_type": "code",
      "execution_count": null,
      "id": "5d786c29",
      "metadata": {
        "id": "5d786c29"
      },
      "outputs": [],
      "source": [
        "plt.figure(figsize=(12,12))\n",
        "sns.heatmap(new_data.corr(), annot=True, mask=np.triu(new_data.corr()))"
      ]
    },
    {
      "cell_type": "markdown",
      "id": "6bb6d79c",
      "metadata": {
        "id": "6bb6d79c"
      },
      "source": [
        "dari plotting heatmap diatas menunjukkan bahwa nilai korelasi dari source dan destination terhadap harga sangat rendah, jadi hapus mereka dan merestrukturisasi dataframe"
      ]
    },
    {
      "cell_type": "code",
      "execution_count": null,
      "id": "8e63bc2e",
      "metadata": {
        "id": "8e63bc2e"
      },
      "outputs": [],
      "source": [
        "\n",
        "drop_cols = ['source_Back Bay', 'source_Beacon Hill', 'source_Boston University',\n",
        "       'source_Fenway', 'source_Financial District', 'source_Haymarket Square',\n",
        "       'source_North End', 'source_North Station',\n",
        "       'source_Northeastern University', 'source_South Station',\n",
        "       'source_Theatre District', 'source_West End', 'destination_Back Bay',\n",
        "       'destination_Beacon Hill', 'destination_Boston University',\n",
        "       'destination_Fenway', 'destination_Financial District',\n",
        "       'destination_Haymarket Square', 'destination_North End',\n",
        "       'destination_North Station', 'destination_Northeastern University',\n",
        "       'destination_South Station', 'destination_Theatre District',\n",
        "       'destination_West End']\n",
        "df = df.drop(drop_cols, axis=1)\n",
        "print(df.shape)\n",
        "df.head()"
      ]
    },
    {
      "cell_type": "code",
      "execution_count": null,
      "id": "fc2d5e19",
      "metadata": {
        "id": "fc2d5e19"
      },
      "outputs": [],
      "source": [
        "# cek korelasi dari kolom summary dengan price\n",
        "summary_cols = ['price','short_summary_ Clear ','short_summary_ Drizzle ', 'short_summary_ Foggy ',\n",
        "                'short_summary_ Light Rain ', 'short_summary_ Mostly Cloudy ','short_summary_ Overcast ',\n",
        "                'short_summary_ Partly Cloudy ','short_summary_ Possible Drizzle ', 'short_summary_ Rain ']\n",
        "new_data = df[summary_cols]\n",
        "new_data.head()"
      ]
    },
    {
      "cell_type": "code",
      "execution_count": null,
      "id": "618ce1f8",
      "metadata": {
        "id": "618ce1f8"
      },
      "outputs": [],
      "source": [
        "plt.figure(figsize=(10,10))\n",
        "sns.heatmap(new_data.corr(),annot=True,mask=np.triu(new_data.corr()))"
      ]
    },
    {
      "cell_type": "code",
      "execution_count": null,
      "id": "5684c6d6",
      "metadata": {
        "id": "5684c6d6"
      },
      "outputs": [],
      "source": [
        "# cek korelasi antara kolom icon dan price\n",
        "icon_cols= ['price','icon_ clear-day ', 'icon_ clear-night ', 'icon_ cloudy ', 'icon_ fog ',\n",
        "       'icon_ partly-cloudy-day ', 'icon_ partly-cloudy-night ','icon_ rain ']\n",
        "new_data = df[icon_cols]\n",
        "plt.figure(figsize=(8,8))\n",
        "sns.heatmap(new_data.corr(),annot=True,mask=np.triu(new_data.corr()))"
      ]
    },
    {
      "cell_type": "markdown",
      "id": "2ea5d7b4",
      "metadata": {
        "id": "2ea5d7b4"
      },
      "source": [
        "dapat dilihat bahwa kolom summary dan kolom icon tidak ada pengaruh ke price karena nilai korelasi mereka terlalu rendah (hampir 0) jadi drop kolom kolom tersebut"
      ]
    },
    {
      "cell_type": "code",
      "execution_count": null,
      "id": "e864d9e0",
      "metadata": {
        "id": "e864d9e0"
      },
      "outputs": [],
      "source": [
        "drop_cols = ['short_summary_ Clear ','short_summary_ Drizzle ', 'short_summary_ Foggy ',\n",
        "             'short_summary_ Light Rain ', 'short_summary_ Mostly Cloudy ','short_summary_ Overcast ',\n",
        "             'short_summary_ Partly Cloudy ','short_summary_ Possible Drizzle ', 'short_summary_ Rain ',\n",
        "             'icon_ clear-day ', 'icon_ clear-night ', 'icon_ cloudy ', 'icon_ fog ','icon_ partly-cloudy-day ',\n",
        "             'icon_ partly-cloudy-night ','icon_ rain ']\n",
        "df = df.drop(drop_cols,axis=1)\n",
        "print(df.shape)\n",
        "df.head()"
      ]
    },
    {
      "cell_type": "code",
      "execution_count": null,
      "id": "a9607561",
      "metadata": {
        "id": "a9607561"
      },
      "outputs": [],
      "source": [
        "df.columns"
      ]
    },
    {
      "cell_type": "code",
      "execution_count": null,
      "id": "1183589f",
      "metadata": {
        "id": "1183589f"
      },
      "outputs": [],
      "source": [
        "# analisis kolom nama dengan price\n",
        "name_cols = ['price','name_Black', 'name_Black SUV','name_Lux', 'name_Lux Black', 'name_Lux Black XL', 'name_Lyft',\n",
        "       'name_Lyft XL', 'name_Shared', 'name_UberPool','name_UberX', 'name_UberXL', 'name_WAV']\n",
        "new_data = df[name_cols]\n",
        "plt.figure(figsize=(10,8))\n",
        "sns.heatmap(new_data.corr(),annot=True, mask=np.triu(new_data.corr()))"
      ]
    },
    {
      "cell_type": "markdown",
      "id": "1639948e",
      "metadata": {
        "id": "1639948e"
      },
      "source": [
        "beberapa nilai dari kolom name memiliki pengaruh terhadap nilai price"
      ]
    },
    {
      "cell_type": "code",
      "execution_count": null,
      "id": "2accf066",
      "metadata": {
        "id": "2accf066"
      },
      "outputs": [],
      "source": [
        "df.columns"
      ]
    },
    {
      "cell_type": "code",
      "execution_count": null,
      "id": "b201cf31",
      "metadata": {
        "id": "b201cf31"
      },
      "outputs": [],
      "source": [
        "# analisis sisa kolom\n",
        "remaining_cols = ['price','hour', 'day', 'month', 'distance', 'surge_multiplier','cab_type']\n",
        "new_data = df[remaining_cols]\n",
        "plt.figure(figsize=(8,8))\n",
        "sns.heatmap(new_data.corr(),annot=True,mask=np.triu(new_data.corr()))"
      ]
    },
    {
      "cell_type": "markdown",
      "id": "52afe17a",
      "metadata": {
        "id": "52afe17a"
      },
      "source": [
        "dari hasil analisis terhadap kolom kolom tersebut bisa dilihat bahwa fitur hour, day, month memiliki korelasi yang rendah. tetapi, kolom distance dan surge_multiplier memiliki korelasi yang bagus dengan price. jadi drop kolom kolom yang memiliki korelasi yang rendah"
      ]
    },
    {
      "cell_type": "code",
      "execution_count": null,
      "id": "8056fb3b",
      "metadata": {
        "id": "8056fb3b"
      },
      "outputs": [],
      "source": [
        "df = df.drop(['hour', 'day', 'month'], axis=1)\n",
        "print(df.shape)\n",
        "df.head()"
      ]
    },
    {
      "cell_type": "code",
      "execution_count": null,
      "id": "ccd87490",
      "metadata": {
        "id": "ccd87490"
      },
      "outputs": [],
      "source": [
        "# cek nilai null pada semua fitur\n",
        "df.isnull().sum()"
      ]
    },
    {
      "cell_type": "code",
      "execution_count": null,
      "id": "95dec771",
      "metadata": {
        "id": "95dec771"
      },
      "outputs": [],
      "source": [
        "df.drop(columns=['index'], axis=1, inplace=True)"
      ]
    },
    {
      "cell_type": "code",
      "execution_count": null,
      "id": "4f492655",
      "metadata": {
        "id": "4f492655"
      },
      "outputs": [],
      "source": [
        "df.columns"
      ]
    },
    {
      "cell_type": "code",
      "execution_count": null,
      "id": "f748439b",
      "metadata": {
        "id": "f748439b"
      },
      "outputs": [],
      "source": [
        "\n",
        "df.rename(columns={'name_Black':'Uber Black','name_Black SUV':'Uber Black SUV', 'name_Lux':'Lyft Lux',\n",
        "                   'name_Lux Black':'Lyft Lux Black','name_Lux Black XL':'Lyft Lux Black XL','name_Lyft':'Lyft',\n",
        "                   'name_Lyft XL':'Lyft XL', 'name_Shared':'Lyft Shared', 'name_UberPool':'Uber Pool',\n",
        "                   'name_UberX':'Uber X', 'name_UberXL':'Uber XL', 'name_WAV':'Uber WAV'}, inplace=True)"
      ]
    },
    {
      "cell_type": "code",
      "execution_count": null,
      "id": "e552caa1",
      "metadata": {
        "id": "e552caa1"
      },
      "outputs": [],
      "source": [
        "df.columns"
      ]
    },
    {
      "cell_type": "code",
      "execution_count": null,
      "id": "4ce7443b",
      "metadata": {
        "id": "4ce7443b"
      },
      "outputs": [],
      "source": [
        "df.drop(columns=['cab_type'], inplace=True)\n",
        "df.head()"
      ]
    },
    {
      "cell_type": "code",
      "execution_count": null,
      "id": "90812dad",
      "metadata": {
        "id": "90812dad"
      },
      "outputs": [],
      "source": [
        "y = df['price']\n",
        "y.head(3)"
      ]
    },
    {
      "cell_type": "code",
      "execution_count": null,
      "id": "238832e3",
      "metadata": {
        "id": "238832e3"
      },
      "outputs": [],
      "source": [
        "X = df.drop(columns=['price'], axis=1)\n",
        "X.head()"
      ]
    },
    {
      "cell_type": "code",
      "source": [],
      "metadata": {
        "id": "H1kaU53lw0sn"
      },
      "id": "H1kaU53lw0sn",
      "execution_count": null,
      "outputs": []
    },
    {
      "cell_type": "markdown",
      "id": "a3b8c0ba",
      "metadata": {
        "id": "a3b8c0ba"
      },
      "source": [
        "## Modeling - splitting data train and data testing\n"
      ]
    },
    {
      "cell_type": "code",
      "source": [
        "from sklearn.model_selection import train_test_split\n",
        "from sklearn import metrics\n",
        "from sklearn.metrics import mean_squared_error\n",
        "from sklearn.linear_model import LinearRegression\n",
        "from sklearn.ensemble import RandomForestRegressor\n",
        "from sklearn.tree import DecisionTreeClassifier"
      ],
      "metadata": {
        "id": "ruYz-1tDUwRv"
      },
      "id": "ruYz-1tDUwRv",
      "execution_count": null,
      "outputs": []
    },
    {
      "cell_type": "markdown",
      "source": [
        "90:10"
      ],
      "metadata": {
        "id": "WNFwrDpfUpcQ"
      },
      "id": "WNFwrDpfUpcQ"
    },
    {
      "cell_type": "code",
      "source": [
        "x_train, x_test, y_train, y_test = train_test_split(X, y, test_size=0.1, random_state=5)\n",
        "model1_LR = LinearRegression()\n",
        "model1 = model1_LR.fit(x_train, y_train)\n",
        "ypred1 = model1.predict(x_test)\n",
        "\n",
        "model1_RF = RandomForestRegressor(n_estimators = 500, random_state = 42)\n",
        "model1_RF.fit(x_train, y_train)\n",
        "predictions = model1_RF.predict(x_test)\n",
        "ypred2 = model1_RF.predict(x_test)\n",
        "\n"
      ],
      "metadata": {
        "id": "hmSprSPpUsaS"
      },
      "id": "hmSprSPpUsaS",
      "execution_count": null,
      "outputs": []
    },
    {
      "cell_type": "code",
      "source": [
        "print(':: LINEAR REGRESSION DATA ASLI 90:10 ::')\n",
        "model_LR = LinearRegression()\n",
        "model1 = model_LR.fit(x_train, y_train)\n",
        "ypred1 = model1.predict(x_test)\n",
        "lr_xtrain_r2 = model_LR.score(x_train, y_train)\n",
        "lr_xtest_r2 = model_LR.score(x_test, y_test)\n",
        "print('Linear Regression train R squared: %.4f' % lr_xtrain_r2)\n",
        "print('Linear Regression test R squared: %.4f' % lr_xtest_r2)\n",
        "\n",
        "lr_mse = mean_squared_error(ypred1, y_test)\n",
        "lr_rmse = np.sqrt(lr_mse)\n",
        "print('Linear Regression test RMSE: %.4f' % lr_rmse)\n",
        "\n",
        "lr_mae = metrics.mean_absolute_error(y_test, ypred1)\n",
        "lr_rootmae = np.sqrt(lr_mae)\n",
        "print('Linear Regression test MAE: %.4f' % lr_rootmae)\n",
        "\n",
        "errors = abs(ypred1 - y_test)\n",
        "mape = 100 * (errors / y_test)\n",
        "lr_accuracy = 100 - np.mean(mape)\n",
        "print('Linear Regression Accuracy:', round(lr_accuracy, 2), '%.')\n",
        "\n",
        "# Define x axis\n",
        "x_axis = x_test.distance\n",
        "\n",
        "# Build scatterplot\n",
        "plt.scatter(x_axis, y_test, c = 'b', alpha = 0.5, marker = '.', label = 'Real')\n",
        "plt.scatter(x_axis, ypred1, c = 'r', alpha = 0.5, marker = '.', label = 'Predicted')\n",
        "plt.xlabel('x')\n",
        "plt.ylabel('price')\n",
        "plt.title(\"Difference in Predicted and Real Price\")\n",
        "plt.grid(color = '#D3D3D3', linestyle = 'solid')\n",
        "plt.legend(loc = 'lower right')\n",
        "plt.show()"
      ],
      "metadata": {
        "id": "BGSyIbp8VAbP"
      },
      "id": "BGSyIbp8VAbP",
      "execution_count": null,
      "outputs": []
    },
    {
      "cell_type": "code",
      "source": [
        "print(':: RANDOM FOREST DATA ASLI 90:10 ::')\n",
        "model_RF = RandomForestRegressor(n_estimators = 500, random_state = 42)\n",
        "model_RF.fit(x_train, y_train)\n",
        "ypred2 = model_RF.predict(x_test)\n",
        "rf_train_r2 = model_RF.score(x_train,y_train)\n",
        "rf_test_r2 = model_RF.score(x_test, y_test)\n",
        "print('Random Forest train R squared is: %.4f' % rf_train_r2)\n",
        "print('Random Forest test R squared\": %.4f' % rf_test_r2)\n",
        "\n",
        "predictions = model_RF.predict(x_test)\n",
        "RF_mse = mean_squared_error(predictions, y_test)\n",
        "RF_rmse = np.sqrt(RF_mse)\n",
        "print('Random Forest RMSE: %.4f' % RF_rmse)\n",
        "\n",
        "RF_mae = metrics.mean_absolute_error(y_test, ypred2)\n",
        "RF_rootmae = np.sqrt(RF_mae)\n",
        "print('Random Forest test MAE: %.4f' % RF_rootmae)\n",
        "\n",
        "errors = abs(predictions - y_test)\n",
        "mape = 100 * (errors / y_test)\n",
        "RF_accuracy = 100 - np.mean(mape)\n",
        "print('Random Forest Accuracy:', round(RF_accuracy, 2), '%.')\n",
        "\n",
        "\n",
        "# Define x axis\n",
        "x_axis = x_test.distance\n",
        "\n",
        "# Build scatterplot\n",
        "plt.scatter(x_axis, y_test, c = 'b', alpha = 0.5, marker = '.', label = 'Real')\n",
        "plt.scatter(x_axis, predictions, c = 'r', alpha = 0.5, marker = '.', label = 'Predicted')\n",
        "plt.xlabel('distance')\n",
        "plt.ylabel('price')\n",
        "plt.title(\"Difference in Predicted and Real Price\")\n",
        "plt.grid(color = '#D3D3D3', linestyle = 'solid')\n",
        "plt.legend(loc = 'lower right')\n",
        "plt.show()"
      ],
      "metadata": {
        "id": "HaHsgOl-Zscy"
      },
      "id": "HaHsgOl-Zscy",
      "execution_count": null,
      "outputs": []
    },
    {
      "cell_type": "markdown",
      "source": [
        "80:20"
      ],
      "metadata": {
        "id": "Qc_Nu6yRUmFS"
      },
      "id": "Qc_Nu6yRUmFS"
    },
    {
      "cell_type": "code",
      "execution_count": null,
      "id": "6ecd0283",
      "metadata": {
        "id": "6ecd0283"
      },
      "outputs": [],
      "source": [
        "\n",
        "x_train, x_test, y_train, y_test = train_test_split(X, y, test_size=0.2, random_state=5)\n",
        "model_LR = LinearRegression()\n",
        "model1 = model_LR.fit(x_train, y_train)\n",
        "ypred1 = model1.predict(x_test)\n",
        "\n",
        "model_RF = RandomForestRegressor(n_estimators = 500, random_state = 42)\n",
        "model_RF.fit(x_train, y_train)\n",
        "predictions = model_RF.predict(x_test)\n",
        "ypred2 = model_RF.predict(x_test)\n",
        "\n"
      ]
    },
    {
      "cell_type": "code",
      "source": [
        "print(':: LINEAR RERESSION DATA ASLI 80:20 ::')\n",
        "model_LR = LinearRegression()\n",
        "model1 = model_LR.fit(x_train, y_train)\n",
        "ypred1 = model1.predict(x_test)\n",
        "lr_xtrain_r2 = model_LR.score(x_train, y_train)\n",
        "lr_xtest_r2 = model_LR.score(x_test, y_test)\n",
        "print('Linear Regression train R squared: %.4f' % lr_xtrain_r2)\n",
        "print('Linear Regression test R squared: %.4f' % lr_xtest_r2)\n",
        "\n",
        "lr_mse = mean_squared_error(ypred1, y_test)\n",
        "lr_rmse = np.sqrt(lr_mse)\n",
        "print('Linear Regression test RMSE: %.4f' % lr_rmse)\n",
        "\n",
        "lr_mae = metrics.mean_absolute_error(y_test, ypred1)\n",
        "lr_rootmae = np.sqrt(lr_mae)\n",
        "print('Linear Regression test MAE: %.4f' % lr_rootmae)\n",
        "\n",
        "errors = abs(ypred1 - y_test)\n",
        "mape = 100 * (errors / y_test)\n",
        "lr_accuracy = 100 - np.mean(mape)\n",
        "print('Linear Regression Accuracy:', round(lr_accuracy, 2), '%.')\n",
        "\n",
        "# Define x axis\n",
        "x_axis = x_test.distance\n",
        "\n",
        "# Build scatterplot\n",
        "plt.scatter(x_axis, y_test, c = 'b', alpha = 0.5, marker = '.', label = 'Real')\n",
        "plt.scatter(x_axis, ypred1, c = 'r', alpha = 0.5, marker = '.', label = 'Predicted')\n",
        "plt.xlabel('x')\n",
        "plt.ylabel('price')\n",
        "plt.title(\"Difference in Predicted and Real Price\")\n",
        "plt.grid(color = '#D3D3D3', linestyle = 'solid')\n",
        "plt.legend(loc = 'lower right')\n",
        "plt.show()"
      ],
      "metadata": {
        "id": "acfzPWUxKNHb"
      },
      "id": "acfzPWUxKNHb",
      "execution_count": null,
      "outputs": []
    },
    {
      "cell_type": "code",
      "source": [
        "print(':: RANDOM FOREST DATA ASLI 80:20 ::')\n",
        "model_RF = RandomForestRegressor(n_estimators = 500, random_state = 42)\n",
        "model_RF.fit(x_train, y_train)\n",
        "ypred2 = model_RF.predict(x_test)\n",
        "rf_train_r2 = model_RF.score(x_train,y_train)\n",
        "rf_test_r2 = model_RF.score(x_test, y_test)\n",
        "print('Random Forest train R squared is: %.4f' % rf_train_r2)\n",
        "print('Random Forest test R squared\": %.4f' % rf_test_r2)\n",
        "\n",
        "predictions = model_RF.predict(x_test)\n",
        "RF_mse = mean_squared_error(predictions, y_test)\n",
        "RF_rmse = np.sqrt(RF_mse)\n",
        "print('Random Forest RMSE: %.4f' % RF_rmse)\n",
        "\n",
        "RF_mae = metrics.mean_absolute_error(y_test, ypred2)\n",
        "RF_rootmae = np.sqrt(RF_mae)\n",
        "print('Random Forest test MAE: %.4f' % RF_rootmae)\n",
        "\n",
        "errors = abs(predictions - y_test)\n",
        "mape = 100 * (errors / y_test)\n",
        "RF_accuracy = 100 - np.mean(mape)\n",
        "print('Random Forest Accuracy:', round(RF_accuracy, 2), '%.')\n",
        "\n",
        "'''characteristics = lyft_X.columns\n",
        "importances = list(regr.feature_importances_)\n",
        "characteristics_importances = [(characteristic, round(importance, 2)) for characteristic, importance in zip(characteristics, importances)]\n",
        "characteristics_importances = sorted(characteristics_importances, key = lambda x: x[1], reverse = True)\n",
        "[print('Variable: {:20} Importance: {}'.format(*pair)) for pair in characteristics_importances];'''\n",
        "\n",
        "# Define x axis\n",
        "x_axis = x_test.distance\n",
        "\n",
        "# Build scatterplot\n",
        "plt.scatter(x_axis, y_test, c = 'b', alpha = 0.5, marker = '.', label = 'Real')\n",
        "plt.scatter(x_axis, predictions, c = 'r', alpha = 0.5, marker = '.', label = 'Predicted')\n",
        "plt.xlabel('distance')\n",
        "plt.ylabel('price')\n",
        "plt.title(\"Difference in Predicted and Real Price\")\n",
        "plt.grid(color = '#D3D3D3', linestyle = 'solid')\n",
        "plt.legend(loc = 'lower right')\n",
        "plt.show()"
      ],
      "metadata": {
        "id": "WzIkwgE9Mgpl"
      },
      "id": "WzIkwgE9Mgpl",
      "execution_count": null,
      "outputs": []
    },
    {
      "cell_type": "markdown",
      "source": [
        "60:40"
      ],
      "metadata": {
        "id": "CRVH65k6hGib"
      },
      "id": "CRVH65k6hGib"
    },
    {
      "cell_type": "code",
      "source": [
        "x_train, x_test, y_train, y_test = train_test_split(X, y, test_size=0.4, random_state=5)\n",
        "model_LR = LinearRegression()\n",
        "model1 = model_LR.fit(x_train, y_train)\n",
        "ypred1 = model1.predict(x_test)\n",
        "\n",
        "model_RF = RandomForestRegressor(n_estimators = 500, random_state = 42)\n",
        "model_RF.fit(x_train, y_train)\n",
        "predictions = model_RF.predict(x_test)\n",
        "ypred2 = model_RF.predict(x_test)"
      ],
      "metadata": {
        "id": "USX4k9ivhSHu"
      },
      "id": "USX4k9ivhSHu",
      "execution_count": null,
      "outputs": []
    },
    {
      "cell_type": "code",
      "source": [
        "print(':: LINEAR REGRESSION DATA ASLI 60:40 ::')\n",
        "model_LR = LinearRegression()\n",
        "model1 = model_LR.fit(x_train, y_train)\n",
        "ypred1 = model1.predict(x_test)\n",
        "lr_xtrain_r2 = model_LR.score(x_train, y_train)\n",
        "lr_xtest_r2 = model_LR.score(x_test, y_test)\n",
        "print('Linear Regression train R squared: %.4f' % lr_xtrain_r2)\n",
        "print('Linear Regression test R squared: %.4f' % lr_xtest_r2)\n",
        "\n",
        "lr_mse = mean_squared_error(ypred1, y_test)\n",
        "lr_rmse = np.sqrt(lr_mse)\n",
        "print('Linear Regression test RMSE: %.4f' % lr_rmse)\n",
        "\n",
        "lr_mae = metrics.mean_absolute_error(y_test, ypred1)\n",
        "lr_rootmae = np.sqrt(lr_mae)\n",
        "print('Linear Regression test MAE: %.4f' % lr_rootmae)\n",
        "\n",
        "errors = abs(ypred1 - y_test)\n",
        "mape = 100 * (errors / y_test)\n",
        "lr_accuracy = 100 - np.mean(mape)\n",
        "print('Linear Regression Accuracy:', round(lr_accuracy, 2), '%.')\n",
        "\n",
        "# Define x axis\n",
        "x_axis = x_test.distance\n",
        "\n",
        "# Build scatterplot\n",
        "plt.scatter(x_axis, y_test, c = 'b', alpha = 0.5, marker = '.', label = 'Real')\n",
        "plt.scatter(x_axis, ypred1, c = 'r', alpha = 0.5, marker = '.', label = 'Predicted')\n",
        "plt.xlabel('x')\n",
        "plt.ylabel('price')\n",
        "plt.title(\"Difference in Predicted and Real Price\")\n",
        "plt.grid(color = '#D3D3D3', linestyle = 'solid')\n",
        "plt.legend(loc = 'lower right')\n",
        "plt.show()"
      ],
      "metadata": {
        "id": "ukNv_4b6hFkr"
      },
      "id": "ukNv_4b6hFkr",
      "execution_count": null,
      "outputs": []
    },
    {
      "cell_type": "code",
      "source": [
        "print(':: RANDOM FOREST DATA ASLI 60:40 ::')\n",
        "model_RF = RandomForestRegressor(n_estimators = 500, random_state = 42)\n",
        "model_RF.fit(x_train, y_train)\n",
        "ypred2 = model_RF.predict(x_test)\n",
        "rf_train_r2 = model_RF.score(x_train,y_train)\n",
        "rf_test_r2 = model_RF.score(x_test, y_test)\n",
        "print('Random Forest train R squared is: %.4f' % rf_train_r2)\n",
        "print('Random Forest test R squared\": %.4f' % rf_test_r2)\n",
        "\n",
        "predictions = model_RF.predict(x_test)\n",
        "RF_mse = mean_squared_error(predictions, y_test)\n",
        "RF_rmse = np.sqrt(RF_mse)\n",
        "print('Random Forest RMSE: %.4f' % RF_rmse)\n",
        "\n",
        "RF_mae = metrics.mean_absolute_error(y_test, ypred2)\n",
        "RF_rootmae = np.sqrt(RF_mae)\n",
        "print('Random Forest test MAE: %.4f' % RF_rootmae)\n",
        "\n",
        "errors = abs(predictions - y_test)\n",
        "mape = 100 * (errors / y_test)\n",
        "RF_accuracy = 100 - np.mean(mape)\n",
        "print('Random Forest Accuracy:', round(RF_accuracy, 2), '%.')\n",
        "\n",
        "'''characteristics = lyft_X.columns\n",
        "importances = list(regr.feature_importances_)\n",
        "characteristics_importances = [(characteristic, round(importance, 2)) for characteristic, importance in zip(characteristics, importances)]\n",
        "characteristics_importances = sorted(characteristics_importances, key = lambda x: x[1], reverse = True)\n",
        "[print('Variable: {:20} Importance: {}'.format(*pair)) for pair in characteristics_importances];'''\n",
        "\n",
        "# Define x axis\n",
        "x_axis = x_test.distance\n",
        "\n",
        "# Build scatterplot\n",
        "plt.scatter(x_axis, y_test, c = 'b', alpha = 0.5, marker = '.', label = 'Real')\n",
        "plt.scatter(x_axis, predictions, c = 'r', alpha = 0.5, marker = '.', label = 'Predicted')\n",
        "plt.xlabel('distance')\n",
        "plt.ylabel('price')\n",
        "plt.title(\"Difference in Predicted and Real Price\")\n",
        "plt.grid(color = '#D3D3D3', linestyle = 'solid')\n",
        "plt.legend(loc = 'lower right')\n",
        "plt.show()"
      ],
      "metadata": {
        "id": "0IdU7ACqhFZy"
      },
      "id": "0IdU7ACqhFZy",
      "execution_count": null,
      "outputs": []
    },
    {
      "cell_type": "code",
      "source": [
        "model_data = {\"Model\": [\"Linear Regression\", \"Random Forest\",],\n",
        "\"Train R2\": [lr_xtrain_r2, rf_train_r2],\n",
        "\"Test R2\": [lr_xtest_r2, rf_test_r2],\n",
        "\"Test RMSE\": [lr_rmse, RF_rmse],\n",
        "\"Test MAE\" : [lr_rootmae, RF_rootmae],\n",
        "\"Accuracy\": [lr_accuracy, RF_accuracy]}\n",
        "\n",
        "summary_table = pd.DataFrame(model_data)\n",
        "display(summary_table)"
      ],
      "metadata": {
        "id": "eD5JaoaBWgyy"
      },
      "id": "eD5JaoaBWgyy",
      "execution_count": null,
      "outputs": []
    },
    {
      "cell_type": "markdown",
      "id": "911d7b35",
      "metadata": {
        "id": "911d7b35"
      },
      "source": [
        "## Model Evaluation"
      ]
    },
    {
      "cell_type": "code",
      "execution_count": null,
      "id": "3c002071",
      "metadata": {
        "id": "3c002071"
      },
      "outputs": [],
      "source": [
        "from sklearn.model_selection import ShuffleSplit\n",
        "from sklearn.model_selection import cross_val_score\n",
        "\n",
        "cross_val = ShuffleSplit(n_splits=5, test_size=0.2, random_state=5)\n",
        "\n",
        "cross_val_score(LinearRegression(), X, y, cv=cross_val)"
      ]
    },
    {
      "cell_type": "code",
      "source": [
        "cross_val_score( RandomForestRegressor(), X, y, cv=cross_val)"
      ],
      "metadata": {
        "id": "HCaZSncQH5sO"
      },
      "id": "HCaZSncQH5sO",
      "execution_count": null,
      "outputs": []
    },
    {
      "cell_type": "code",
      "execution_count": null,
      "id": "dbca9e66",
      "metadata": {
        "id": "dbca9e66"
      },
      "outputs": [],
      "source": [
        "def predict_price(name_cab,distance,surge_multiplier):\n",
        "    loc_index = np.where(X.columns==name_cab)[0][0]\n",
        "\n",
        "    x = np.zeros(len(X.columns))\n",
        "    x[0] = distance\n",
        "    x[1] = surge_multiplier\n",
        "    if loc_index >= 0:\n",
        "        x[loc_index] = 1\n",
        "\n",
        "    return model_RF.predict([x])[0]"
      ]
    },
    {
      "cell_type": "code",
      "execution_count": null,
      "id": "cacca4e8",
      "metadata": {
        "scrolled": true,
        "id": "cacca4e8"
      },
      "outputs": [],
      "source": [
        "predict_price('Lyft Lux',0.44,0.0)"
      ]
    },
    {
      "cell_type": "code",
      "execution_count": null,
      "id": "988032f9",
      "metadata": {
        "id": "988032f9"
      },
      "outputs": [],
      "source": [
        "predict_price('Lyft',0.44,0.0)"
      ]
    },
    {
      "cell_type": "code",
      "execution_count": null,
      "id": "64173f07",
      "metadata": {
        "id": "64173f07"
      },
      "outputs": [],
      "source": [
        "predict_price('Uber WAV',0.44,0.0)"
      ]
    },
    {
      "cell_type": "code",
      "execution_count": null,
      "id": "001365ee",
      "metadata": {
        "id": "001365ee"
      },
      "outputs": [],
      "source": [
        "predict_price('Lyft Shared',0.44, 0.0)"
      ]
    },
    {
      "cell_type": "code",
      "execution_count": null,
      "id": "db4ef540",
      "metadata": {
        "id": "db4ef540"
      },
      "outputs": [],
      "source": [
        "predict_price('Uber X',0.44, 0.0)"
      ]
    },
    {
      "cell_type": "code",
      "execution_count": null,
      "id": "53a339ca",
      "metadata": {
        "id": "53a339ca"
      },
      "outputs": [],
      "source": [
        "predict_price('Lyft Lux Black',0.44, 0.0)"
      ]
    },
    {
      "cell_type": "code",
      "execution_count": null,
      "id": "8c300dd6",
      "metadata": {
        "id": "8c300dd6"
      },
      "outputs": [],
      "source": [
        "predict_price('Lyft Lux Black XL',1.0, 0.0)"
      ]
    },
    {
      "cell_type": "code",
      "execution_count": null,
      "id": "4de0b077",
      "metadata": {
        "id": "4de0b077"
      },
      "outputs": [],
      "source": [
        "predict_price('Uber Pool',1.0, 0.0)"
      ]
    },
    {
      "cell_type": "code",
      "execution_count": null,
      "id": "1d2d3047",
      "metadata": {
        "id": "1d2d3047"
      },
      "outputs": [],
      "source": [
        "predict_price('Uber Black',1.0, 0.0)"
      ]
    },
    {
      "cell_type": "code",
      "execution_count": null,
      "id": "ffe686cc",
      "metadata": {
        "id": "ffe686cc"
      },
      "outputs": [],
      "source": [
        "\n",
        "predict_price('Uber Black SUV',1.5, 0.0)"
      ]
    },
    {
      "cell_type": "code",
      "execution_count": null,
      "id": "1912ad2f",
      "metadata": {
        "id": "1912ad2f"
      },
      "outputs": [],
      "source": [
        "# simpan model kedalam file dengan pickle\n",
        "import pickle\n",
        "pickle.dump(model, open('./predict_price_model.pkl','wb'))"
      ]
    },
    {
      "cell_type": "code",
      "execution_count": null,
      "id": "121802f9",
      "metadata": {
        "id": "121802f9"
      },
      "outputs": [],
      "source": [
        "X.columns"
      ]
    },
    {
      "cell_type": "code",
      "execution_count": null,
      "id": "54e1484f",
      "metadata": {
        "id": "54e1484f"
      },
      "outputs": [],
      "source": [
        "import json\n",
        "columns = {\n",
        "    'data_columns' : [col.lower() for col in X.columns]\n",
        "}\n",
        "with open(\"columns.json\",\"w\") as f:\n",
        "    f.write(json.dumps(columns))"
      ]
    },
    {
      "cell_type": "markdown",
      "id": "3502c37d",
      "metadata": {
        "id": "3502c37d"
      },
      "source": [
        "## Kesimpulan"
      ]
    },
    {
      "cell_type": "markdown",
      "id": "f82918dc",
      "metadata": {
        "id": "f82918dc"
      },
      "source": [
        "Dataset ini memiliki dimensi yang tinggi yaitu 693071 × 57. dengan begitu banyaknya fitur perlu diketahui fitur mana saja yang memiliki korelasi yang cukup, hal itu sangat berguna ketika dalam proses prediksi. dikarenakan tujuan utama dalam projek ini adalah untuk memprediksi hargra maka fitur price merupakan variabel dependent yang akan menjadi predictand. Dalam proses pemilihan fitur dapat dilakukan dengan menggunakan fungsi correlation dan juga bantuan visualisasi dari heatmap plot. setelah dilakukan analisis dengan menggunakan fungsi korelasi dan heatmap plot  dari 57 fitur kami mengambil fitur distance, surge_multiplier dan name_cab karena fitur-fitur tersebut memiliki korelasi yang cukup berpengaruh ke variabel dependent(price). Pada section EDA bisa dilihat bahwa Top 5 source-destination pada cab jenis uber dan lyft adalah sama, yaitu : Financial District-South Station (dan sebaliknya), Back Bay-North End (dan sebaliknya), West End-Fenway. Transaksi berdasarkan nama cab pada cab jenis uber dan lyft memiliki hasil yang sama tetapi beda jumlah nilai, berdasarkan fitur short_summary jumlah transaksi tertinggi terjadi pada hari ketika mendung data dan transaksi terendah pada hari ketika mengalami grimis.Harga tertinggi pada cab jenis uber yaitu Black SUV dan level harga terendah adalah UberPool, sedangkan pada cab jenis Lyft dengan nama Lux Black XL memiliki level harga tertinggi dengan nilai diatas 30 sedangkan level harga terendah yaitu cab jenis Lyft Shared.\n",
        "Untuk membuat model prediksi, pada projek ini menggunakan algoritma Linear Regression. Proses prediksi menggunakan  R2 score dengan memanfaatkan library scikit-learn untuk mempermudah proses. R2 score merupakan salah satu metode yang digunakan untuk mengukur performa evaluasi pada regression. Hasil prediksi diatas dapat dilihat bahwa model prediksi menghasilkan nilai sebesar 0.93 atau 93% yang mana hasil tersebut menunjukkan nilai prediksi yang baik."
      ]
    },
    {
      "cell_type": "code",
      "execution_count": null,
      "id": "b9b84ab5",
      "metadata": {
        "id": "b9b84ab5"
      },
      "outputs": [],
      "source": []
    }
  ],
  "metadata": {
    "kernelspec": {
      "display_name": "Python 3",
      "language": "python",
      "name": "python3"
    },
    "language_info": {
      "codemirror_mode": {
        "name": "ipython",
        "version": 3
      },
      "file_extension": ".py",
      "mimetype": "text/x-python",
      "name": "python",
      "nbconvert_exporter": "python",
      "pygments_lexer": "ipython3",
      "version": "3.8.10"
    },
    "colab": {
      "provenance": []
    }
  },
  "nbformat": 4,
  "nbformat_minor": 5
}